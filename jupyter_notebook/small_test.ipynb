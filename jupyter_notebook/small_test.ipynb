{
 "cells": [
  {
   "cell_type": "code",
   "execution_count": 74,
   "metadata": {},
   "outputs": [],
   "source": [
    "import numpy as np\n",
    "import ast\n",
    "import re"
   ]
  },
  {
   "cell_type": "code",
   "execution_count": 4,
   "metadata": {},
   "outputs": [
    {
     "data": {
      "text/plain": [
       "array([1, 2, 3, 1, 2, 3])"
      ]
     },
     "execution_count": 4,
     "metadata": {},
     "output_type": "execute_result"
    }
   ],
   "source": [
    "A = read(\"File_name\")\n",
    "for i in range(5):\n",
    "    a = obj\n",
    "    for i1 in range(10):\n",
    "        A = print_derivative(A, n_point = 2*i + 1, step = i1)\n",
    "        \n",
    "        \n",
    "    \n"
   ]
  },
  {
   "cell_type": "code",
   "execution_count": 15,
   "metadata": {},
   "outputs": [
    {
     "data": {
      "text/plain": [
       "array([ 1,  2,  3,  4,  5, 10, 20, 30])"
      ]
     },
     "execution_count": 15,
     "metadata": {},
     "output_type": "execute_result"
    }
   ],
   "source": [
    "do_my_job(\"path/to/file\")"
   ]
  },
  {
   "cell_type": "code",
   "execution_count": 11,
   "metadata": {},
   "outputs": [
    {
     "name": "stderr",
     "output_type": "stream",
     "text": [
      "/var/folders/ym/26b79b9x6wg59yqrctz2c40h0000gn/T/ipykernel_76171/3497693437.py:8: FutureWarning: Passing (type, 1) or '1type' as a synonym of type is deprecated; in a future version of numpy, it will be understood as (type, (1,)) / '(1,)type'.\n",
      "  result_array = np.array([tuple(my_array)] + [my_list], dtype=[('arr', 'int', 3), ('list', 'O', 1)])\n"
     ]
    },
    {
     "ename": "ValueError",
     "evalue": "setting an array element with a sequence. The requested array has an inhomogeneous shape after 1 dimensions. The detected shape was (2,) + inhomogeneous part.",
     "output_type": "error",
     "traceback": [
      "\u001b[0;31m---------------------------------------------------------------------------\u001b[0m",
      "\u001b[0;31mValueError\u001b[0m                                Traceback (most recent call last)",
      "\u001b[0;32m/var/folders/ym/26b79b9x6wg59yqrctz2c40h0000gn/T/ipykernel_76171/3497693437.py\u001b[0m in \u001b[0;36m<module>\u001b[0;34m\u001b[0m\n\u001b[1;32m      6\u001b[0m \u001b[0;34m\u001b[0m\u001b[0m\n\u001b[1;32m      7\u001b[0m \u001b[0;31m# Create a structured array with two elements: an int array and an object array (list)\u001b[0m\u001b[0;34m\u001b[0m\u001b[0;34m\u001b[0m\u001b[0m\n\u001b[0;32m----> 8\u001b[0;31m \u001b[0mresult_array\u001b[0m \u001b[0;34m=\u001b[0m \u001b[0mnp\u001b[0m\u001b[0;34m.\u001b[0m\u001b[0marray\u001b[0m\u001b[0;34m(\u001b[0m\u001b[0;34m[\u001b[0m\u001b[0mtuple\u001b[0m\u001b[0;34m(\u001b[0m\u001b[0mmy_array\u001b[0m\u001b[0;34m)\u001b[0m\u001b[0;34m]\u001b[0m \u001b[0;34m+\u001b[0m \u001b[0;34m[\u001b[0m\u001b[0mmy_list\u001b[0m\u001b[0;34m]\u001b[0m\u001b[0;34m,\u001b[0m \u001b[0mdtype\u001b[0m\u001b[0;34m=\u001b[0m\u001b[0;34m[\u001b[0m\u001b[0;34m(\u001b[0m\u001b[0;34m'arr'\u001b[0m\u001b[0;34m,\u001b[0m \u001b[0;34m'int'\u001b[0m\u001b[0;34m,\u001b[0m \u001b[0;36m3\u001b[0m\u001b[0;34m)\u001b[0m\u001b[0;34m,\u001b[0m \u001b[0;34m(\u001b[0m\u001b[0;34m'list'\u001b[0m\u001b[0;34m,\u001b[0m \u001b[0;34m'O'\u001b[0m\u001b[0;34m,\u001b[0m \u001b[0;36m1\u001b[0m\u001b[0;34m)\u001b[0m\u001b[0;34m]\u001b[0m\u001b[0;34m)\u001b[0m\u001b[0;34m\u001b[0m\u001b[0;34m\u001b[0m\u001b[0m\n\u001b[0m",
      "\u001b[0;31mValueError\u001b[0m: setting an array element with a sequence. The requested array has an inhomogeneous shape after 1 dimensions. The detected shape was (2,) + inhomogeneous part."
     ]
    }
   ],
   "source": []
  },
  {
   "cell_type": "code",
   "execution_count": 19,
   "metadata": {},
   "outputs": [
    {
     "name": "stdout",
     "output_type": "stream",
     "text": [
      "[1, 2, 3]\n",
      "[1, 2, 3, 4, 5, 6]\n"
     ]
    }
   ],
   "source": [
    "a = [1, 2, 3]\n",
    "b = [4, 5, 6]\n",
    "print(a)\n",
    "a.extend(b)\n",
    "print(a)"
   ]
  },
  {
   "cell_type": "code",
   "execution_count": 35,
   "metadata": {},
   "outputs": [
    {
     "data": {
      "text/plain": [
       "False"
      ]
     },
     "execution_count": 35,
     "metadata": {},
     "output_type": "execute_result"
    }
   ],
   "source": []
  },
  {
   "cell_type": "code",
   "execution_count": 73,
   "metadata": {},
   "outputs": [
    {
     "name": "stdout",
     "output_type": "stream",
     "text": [
      "{'x': 1, 'y': 2, 'z': 3}\n"
     ]
    }
   ],
   "source": [
    "a = \"azazaazaa {'x':1,'y':2,'z':3}\"\n",
    "A = a.split(\" \")\n",
    "A = ast.literal_eval(\"{'x': 1, 'y': 2, 'z': 3}\")\n",
    "print(A)"
   ]
  },
  {
   "cell_type": "code",
   "execution_count": 40,
   "metadata": {},
   "outputs": [
    {
     "data": {
      "text/plain": [
       "nan"
      ]
     },
     "execution_count": 40,
     "metadata": {},
     "output_type": "execute_result"
    }
   ],
   "source": [
    "a = np.array([1,2, 2,12312412, 3,12312412, np.NaN])\n",
    "np.round(np.NaN, 2)"
   ]
  },
  {
   "cell_type": "code",
   "execution_count": 66,
   "metadata": {},
   "outputs": [],
   "source": [
    "A = np.array([[1.123, 2.123, 3.123], [4.123, 5.123, 6.123], [7.123, 8.123, np.NaN]])"
   ]
  },
  {
   "cell_type": "code",
   "execution_count": 68,
   "metadata": {},
   "outputs": [
    {
     "data": {
      "text/plain": [
       "array([3.12, 6.12,  nan])"
      ]
     },
     "execution_count": 68,
     "metadata": {},
     "output_type": "execute_result"
    }
   ],
   "source": [
    "np.round(A[:,2], 2)"
   ]
  },
  {
   "cell_type": "code",
   "execution_count": null,
   "metadata": {},
   "outputs": [],
   "source": [
    "import girona_donostia as gd\n",
    "\n",
    "A = get_list_of_propreties_for_fchk_in_a_folder()"
   ]
  },
  {
   "cell_type": "code",
   "execution_count": null,
   "metadata": {},
   "outputs": [],
   "source": []
  },
  {
   "cell_type": "code",
   "execution_count": 84,
   "metadata": {},
   "outputs": [
    {
     "data": {
      "text/plain": [
       "['kw_1,', 'kw_2,', 'kw_3(text, in, kw3)']"
      ]
     },
     "execution_count": 84,
     "metadata": {},
     "output_type": "execute_result"
    }
   ],
   "source": [
    "s = \"kw_1, kw_2, kw_3(text, in, kw3)\"\n",
    "A = re.split(r'\\s(?![^(]*\\))',s)\n",
    "A"
   ]
  },
  {
   "cell_type": "code",
   "execution_count": 81,
   "metadata": {},
   "outputs": [
    {
     "data": {
      "text/plain": [
       "['word1', 'word2', 'word3']"
      ]
     },
     "execution_count": 81,
     "metadata": {},
     "output_type": "execute_result"
    }
   ],
   "source": [
    "str = \"dwvewfv(word1), (word2), wvfwvw (word3)\"\n",
    "re.findall(r'\\((.*?)\\)', str)"
   ]
  },
  {
   "cell_type": "code",
   "execution_count": 85,
   "metadata": {},
   "outputs": [
    {
     "data": {
      "text/plain": [
       "['dvdsv']"
      ]
     },
     "execution_count": 85,
     "metadata": {},
     "output_type": "execute_result"
    }
   ],
   "source": [
    "a = \"dvdsv\"\n",
    "a.split(\"()\")"
   ]
  },
  {
   "cell_type": "code",
   "execution_count": 91,
   "metadata": {},
   "outputs": [
    {
     "name": "stdout",
     "output_type": "stream",
     "text": [
      "test\n"
     ]
    },
    {
     "data": {
      "text/plain": [
       "12"
      ]
     },
     "execution_count": 91,
     "metadata": {},
     "output_type": "execute_result"
    }
   ],
   "source": [
    "def func(d, a, b, c, extension = False):\n",
    "    if extension:\n",
    "        print(\"test\")\n",
    "    return d + a + b + c\n",
    "i = [1, 2, 3, True]\n",
    "\n",
    "func(6, *i)"
   ]
  },
  {
   "cell_type": "code",
   "execution_count": 92,
   "metadata": {},
   "outputs": [
    {
     "data": {
      "text/plain": [
       "True"
      ]
     },
     "execution_count": 92,
     "metadata": {},
     "output_type": "execute_result"
    }
   ],
   "source": [
    "a = \"***kw_e_field***\"\n",
    "\"kw_e_field\" in a\n",
    "\n"
   ]
  },
  {
   "cell_type": "code",
   "execution_count": 94,
   "metadata": {},
   "outputs": [
    {
     "data": {
      "text/plain": [
       "True"
      ]
     },
     "execution_count": 94,
     "metadata": {},
     "output_type": "execute_result"
    }
   ],
   "source": [
    "A = ['gen_e_field_direction', 1, 2, 3]\n",
    "\"gen_e_field_direction\" in A"
   ]
  },
  {
   "cell_type": "code",
   "execution_count": 1,
   "metadata": {},
   "outputs": [
    {
     "data": {
      "text/plain": [
       "True"
      ]
     },
     "execution_count": 1,
     "metadata": {},
     "output_type": "execute_result"
    }
   ],
   "source": [
    "a = \"#P M062X\"\n",
    "\"#\" in a"
   ]
  },
  {
   "cell_type": "code",
   "execution_count": 2,
   "metadata": {},
   "outputs": [
    {
     "data": {
      "text/plain": [
       "'#P M062X'"
      ]
     },
     "execution_count": 2,
     "metadata": {},
     "output_type": "execute_result"
    }
   ],
   "source": [
    "a.strip()"
   ]
  },
  {
   "cell_type": "code",
   "execution_count": 3,
   "metadata": {},
   "outputs": [],
   "source": [
    "a = 10**(-16)"
   ]
  },
  {
   "cell_type": "code",
   "execution_count": 5,
   "metadata": {},
   "outputs": [
    {
     "data": {
      "text/plain": [
       "1e-16"
      ]
     },
     "execution_count": 5,
     "metadata": {},
     "output_type": "execute_result"
    }
   ],
   "source": [
    "a"
   ]
  },
  {
   "cell_type": "code",
   "execution_count": 7,
   "metadata": {},
   "outputs": [
    {
     "data": {
      "text/plain": [
       "False"
      ]
     },
     "execution_count": 7,
     "metadata": {},
     "output_type": "execute_result"
    }
   ],
   "source": [
    "a == 0"
   ]
  },
  {
   "cell_type": "code",
   "execution_count": 9,
   "metadata": {},
   "outputs": [
    {
     "name": "stdout",
     "output_type": "stream",
     "text": [
      "0.0\n"
     ]
    }
   ],
   "source": [
    "A = -0.0\n",
    "print(abs(A))"
   ]
  },
  {
   "cell_type": "code",
   "execution_count": 1,
   "metadata": {},
   "outputs": [
    {
     "data": {
      "text/plain": [
       "False"
      ]
     },
     "execution_count": 1,
     "metadata": {},
     "output_type": "execute_result"
    }
   ],
   "source": [
    "a = \"Example_how_we_want_X-1.41e-04_Y-1.41e-04.com\"\n",
    "\"X+0\" in a"
   ]
  },
  {
   "cell_type": "code",
   "execution_count": 2,
   "metadata": {},
   "outputs": [],
   "source": [
    "path = \"/Users/petrumilev/Documents/projects_python/File_for_proj_girona_donostia/Test_Input/Example_how_we_want.txt\"\n",
    "\n",
    "with open(path, \"a\") as file:\n",
    "    file.write(\"ArithmeticError\")"
   ]
  },
  {
   "cell_type": "code",
   "execution_count": 19,
   "metadata": {},
   "outputs": [
    {
     "data": {
      "text/plain": [
       "'word1/word2/word3'"
      ]
     },
     "execution_count": 19,
     "metadata": {},
     "output_type": "execute_result"
    }
   ],
   "source": [
    "import os \n",
    "a = \"word1\"\n",
    "b = \"word2\"\n",
    "c = \"word3\"\n",
    "os.path.join(a,b,c)"
   ]
  },
  {
   "cell_type": "code",
   "execution_count": 23,
   "metadata": {},
   "outputs": [
    {
     "data": {
      "text/plain": [
       "'word1 word2 word3'"
      ]
     },
     "execution_count": 23,
     "metadata": {},
     "output_type": "execute_result"
    }
   ],
   "source": [
    "a = \"word1 word2 word3\"\n",
    "a.replace(\"word2\", \"\")\n",
    "a"
   ]
  },
  {
   "cell_type": "code",
   "execution_count": 24,
   "metadata": {},
   "outputs": [
    {
     "data": {
      "text/plain": [
       "['Example_how_we_want_X-7.07e-05_Y-7.07e-05.com',\n",
       " '.DS_Store',\n",
       " 'Example_how_we_want_X+7.07e-05_Y+7.07e-05.com',\n",
       " 'Example_how_we_want_X+3.54e-04_Y+3.54e-04.com',\n",
       " 'Example_how_we_want_X+2.12e-04_Y+2.12e-04.com',\n",
       " 'Example_how_we_want_X-2.83e-04_Y-2.83e-04.com',\n",
       " 'Example_how_we_want_X-3.54e-04_Y-3.54e-04.com',\n",
       " 'Example_how_we_want_X-2.12e-04_Y-2.12e-04.com',\n",
       " 'Example_how_we_want_X+2.83e-04_Y+2.83e-04.com',\n",
       " 'Example_how_we_want_X+0_Y+0.com',\n",
       " 'Example_how_we_want_X+1.41e-04_Y+1.41e-04.com',\n",
       " 'Example_how_we_want_X-1.41e-04_Y-1.41e-04.com',\n",
       " 'Example_how_we_want.txt']"
      ]
     },
     "execution_count": 24,
     "metadata": {},
     "output_type": "execute_result"
    }
   ],
   "source": [
    "path = \"/Users/petrumilev/Documents/projects_python/File_for_proj_girona_donostia/Test_Input\"\n",
    "os.listdir(path)"
   ]
  },
  {
   "cell_type": "code",
   "execution_count": 1,
   "metadata": {},
   "outputs": [
    {
     "data": {
      "text/plain": [
       "True"
      ]
     },
     "execution_count": 1,
     "metadata": {},
     "output_type": "execute_result"
    }
   ],
   "source": [
    "a = \"@/Users/petrumilev/Documents/projects_python/project_girona_donostia/jupyter_notebook/geometry_test.txt\"\n",
    "\"@\" in a"
   ]
  },
  {
   "cell_type": "code",
   "execution_count": 2,
   "metadata": {},
   "outputs": [],
   "source": [
    "import numpy as np "
   ]
  },
  {
   "cell_type": "code",
   "execution_count": 15,
   "metadata": {},
   "outputs": [],
   "source": [
    "def split_text_for_inp(text):\n",
    "    result = \"\"\n",
    "    parens_open = 0\n",
    "    for char in text:\n",
    "        if char =='(':\n",
    "            parens_open += 1\n",
    "        elif char == ')':\n",
    "            parens_open -= 1\n",
    "        if char == ',' and parens_open == 0:\n",
    "            char = \"\"\n",
    "        if char == ' ' and parens_open == 0:\n",
    "            print(char)\n",
    "            char = \";\"\n",
    "        result += char\n",
    "    return result.split(\";\")\n",
    "\n",
    "def get_inp_text(text):\n",
    "    result = \"\"\n",
    "    parens_open = 0\n",
    "    for char in text:\n",
    "        if char == ')':\n",
    "            parens_open -= 1\n",
    "        if parens_open > 0:\n",
    "            result += char\n",
    "        if char =='(':\n",
    "            parens_open += 1\n",
    "    if result == \"\":\n",
    "        return None\n",
    "    else: return result\n",
    "                \n"
   ]
  },
  {
   "cell_type": "code",
   "execution_count": 23,
   "metadata": {},
   "outputs": [
    {
     "name": "stdout",
     "output_type": "stream",
     "text": [
      " \n",
      " \n",
      " \n",
      " \n",
      " \n",
      " \n",
      " \n"
     ]
    },
    {
     "data": {
      "text/plain": [
       "['gen_e_field_direction(1, 90, 45, -0.0005, 0.0005, 11, spherical, linear)',\n",
       " 'new_kw',\n",
       " 'update_old_chk(n-1)',\n",
       " 'basis_set(origin)',\n",
       " 'change_kw(sg1, sg2)',\n",
       " 'change_kw(cphf(grids=sg1, delete))',\n",
       " 'read_geom()',\n",
       " 'zip([sg1, sg2, sg3, sg4],[cphf(grid=sg1), delete],[IOp(9/75=2), IOp(9/75=1)])']"
      ]
     },
     "execution_count": 23,
     "metadata": {},
     "output_type": "execute_result"
    }
   ],
   "source": [
    "a = \"gen_e_field_direction(1, 90, 45, -0.0005, 0.0005, 11, spherical, linear) new_kw update_old_chk(n-1) basis_set(origin) change_kw(sg1, sg2) change_kw(cphf(grids=sg1, delete)) read_geom() zip([sg1, sg2, sg3, sg4],[cphf(grid=sg1), delete],[IOp(9/75=2), IOp(9/75=1)])\"\n",
    "A = split_text_for_inp(a)\n",
    "A"
   ]
  },
  {
   "cell_type": "code",
   "execution_count": 31,
   "metadata": {},
   "outputs": [
    {
     "name": "stdout",
     "output_type": "stream",
     "text": [
      "10\n",
      "wdvgewrgf \n"
     ]
    }
   ],
   "source": [
    "line = \"wdvgewrgf zip((sg1, sg2, sg3, sg4), (cphf(grid=sg1), delete), (IOp(9/75=2), IOp(9/75=1)))wd fwe fwe \"\n",
    "a = line.find(\"zip((sg1, sg2, sg3, sg4), (cphf(grid=sg1), delete), (IOp(9/75=2), IOp(9/75=1)))\")\n",
    "print(a)\n",
    "new_string = line[:a] + line[a + len(line):]\n",
    "print(new_string)"
   ]
  },
  {
   "cell_type": "code",
   "execution_count": 34,
   "metadata": {},
   "outputs": [],
   "source": [
    "def parse(text):\n",
    "  result = []\n",
    "  parens_open = 0\n",
    "\n",
    "  for char in text:\n",
    "    if char == '(':\n",
    "      parens_open += 1\n",
    "      result.append(char)\n",
    "    elif char == ')' and parens_open:\n",
    "      if parens_open == 1 and result[-1] == '(':\n",
    "        result.pop()  # Removes empty unnested parens i.e. '()'\n",
    "      else:\n",
    "        result.append(char)\n",
    "      parens_open -= 1\n",
    "\n",
    "    elif char == '\\n' and result and result[-1] != '\\n':\n",
    "      # ensure only one carriage return between text\n",
    "      result.append(char)\n",
    "    elif parens_open:\n",
    "      result.append(char)\n",
    "\n",
    "  return ''.join(result)\n"
   ]
  },
  {
   "cell_type": "code",
   "execution_count": 44,
   "metadata": {},
   "outputs": [
    {
     "name": "stdout",
     "output_type": "stream",
     "text": [
      "((sg1, sg2, sg3, sg4),(cphf(grid=sg1), delete),(IOp(9/75=2), IOp(9/75=1)))\n"
     ]
    },
    {
     "data": {
      "text/plain": [
       "'((sg1, sg2, sg3, sg4),(cphf(grid=sg1), delete),(IOp(9/75=2), IOp(9/75=1)))'"
      ]
     },
     "execution_count": 44,
     "metadata": {},
     "output_type": "execute_result"
    }
   ],
   "source": [
    "a = \"zip((sg1, sg2, sg3, sg4),(cphf(grid=sg1), delete),(IOp(9/75=2), IOp(9/75=1)))\"\n",
    "b = parse(a)\n",
    "print(b)\n",
    "c = parse(b)\n",
    "c"
   ]
  },
  {
   "cell_type": "markdown",
   "metadata": {},
   "source": []
  },
  {
   "cell_type": "code",
   "execution_count": null,
   "metadata": {},
   "outputs": [],
   "source": []
  },
  {
   "cell_type": "code",
   "execution_count": 2,
   "metadata": {},
   "outputs": [],
   "source": [
    "import numpy as np \n",
    "def vary_e_field_in_certain_direction(c1, c2, c3, var_range, type_coordinates = \"cartesian\", type_space = \"linear\"):\n",
    "    \"\"\"\n",
    "    Function to vary the electric field in a certain direction.\n",
    "    c1, c2, c3 - coordinates of the point in the space, where the electric field is to be varied. \n",
    "    format of the coordinates is (x, y, z) for catesian, (r, theta, phi) for spherical, (r, phi, h) for cylindrical\n",
    "    Physics convetion is used. Values are to be given in degrees\n",
    "    The use of (r, theta, phi) denotes radial distance, inclination (or elevation), and azimuth, respectively.\n",
    "    var_range - range of the variation.\n",
    "    type_coordinates - \"cartesian\", \"spherical\", \"cylindrical\". Default is cartesian.\n",
    "    type_space - \"linear\", \"log\", \"step\". Default is linear.\n",
    "\n",
    "    The function will convert the coordinates in the sphericall coordinates. \n",
    "    Then it will vary the radial distance which represents the intensity of the electric field.\n",
    "    \"\"\"\n",
    "    def convert_spherical_to_cartesian_coordinates(r, theta, phi):\n",
    "        \"\"\"\n",
    "        Convert spherical coordinates to cartesian coordinates.\n",
    "        The use of (r, theta, phi) denotes radial distance, inclination (or elevation), and azimuth, respectively.\n",
    "        θ the angle measured away from the +Z axis \n",
    "        As φ has a range of 360° \n",
    "        θ has a range of 180°, running from 0° to 180°\n",
    "        \"\"\"\n",
    "        x = r * np.sin(theta) * np.cos(phi)\n",
    "        y = r * np.sin(theta) * np.sin(phi)\n",
    "        z = r * np.cos(theta)\n",
    "        return x, y, z\n",
    "    \n",
    "    \n",
    "    def convert_cartesian_to_spherical_coordinates(x, y, z):\n",
    "        \"\"\"\n",
    "        Convert cartesian coordinates to spherical coordinates.\n",
    "        The use of (x, y, z) denotes the cartesian coordinates.\n",
    "        \"\"\"\n",
    "        r = np.sqrt(x**2 + y**2 + z**2)\n",
    "        theta = np.arccos(z / r)\n",
    "        if int(x) == 0:\n",
    "            phi = np.arctan(np.inf)\n",
    "        else: phi = np.arctan(y / x)\n",
    "        return r, theta, phi\n",
    "    \n",
    "    def convert_cylindrical_to_spherical_coordinates(r, phi, h):\n",
    "        \"\"\"\n",
    "        Convert cylindrical coordinates to spherical coordinates.\n",
    "        The use of (r, phi, z) denotes radial distance, azimuth angle, and height, respectively.\n",
    "        \"\"\"\n",
    "        ro = np.sqrt(r**2 + h**2)   \n",
    "        if int(h) == 0:\n",
    "            theta = np.arctan(np.inf)\n",
    "        else: theta = np.arctan(r / h)   \n",
    "        return ro, theta, phi\n",
    "\n",
    "    def return_x_y_z(x, y, z):                                               #Function to return the same coordinates\n",
    "        return x, y, z\n",
    "\n",
    "    if type_space == \"linear\":                                               #Creating the space for the variation\n",
    "        space = np.linspace(var_range[0], var_range[1], var_range[2])\n",
    "    elif type_space == \"step\":\n",
    "        space = np.arange(var_range[0], var_range[1] + var_range[2], var_range[2])\n",
    "    elif type_space == \"log\":\n",
    "        space = np.logspace(np.log10(var_range[0]), np.log10(var_range[1]), var_range[2])\n",
    "    else: space = np.linspace(var_range[0], var_range[1], var_range[2])\n",
    "\n",
    "    #Mapping the function to the corresponding conversion of coordinates\n",
    "    map_function = {\"cartesian\" : convert_cartesian_to_spherical_coordinates, \"spherical\" : return_x_y_z, \"cylindrical\" : convert_cylindrical_to_spherical_coordinates}\n",
    "    f = map_function[type_coordinates]\n",
    "    return_vector = []\n",
    "    if type_coordinates != \"cartesian\":\n",
    "        c2 = np.radians(c2)                               #Converting from degrees to radians\n",
    "        c3 = np.radians(c3)\n",
    "    r, theta, phi = f(c1, c2, c3)                         #Converting the coordinates to spherical\n",
    "    for i in space:                                       #Obtaining the new values for electric field\n",
    "        r = i                                             #Length of vector is changed\n",
    "        x, y, z = convert_spherical_to_cartesian_coordinates(r, theta, phi)        #Obtaining the new cartesian coordinates to be used in the Gaussian input file.\n",
    "        x, y, z = np.round((x, y, z), 10)                                          #Rounding the values to 10 decimal places\n",
    "        if x == 0:\n",
    "            x = abs(x)\n",
    "        if y == 0:\n",
    "            y = abs(y)\n",
    "        if z == 0:\n",
    "            z = abs(z)\n",
    "        return_vector.append((x, y, z))                                            #Appending the new values to the list\n",
    "\n",
    "    return return_vector"
   ]
  },
  {
   "cell_type": "code",
   "execution_count": 7,
   "metadata": {},
   "outputs": [],
   "source": [
    "e_fields = vary_e_field_in_certain_direction(0, 1, 1, var_range = [-5, 5, 1], type_coordinates = \"cartesian\", type_space = \"step\")\n",
    "        "
   ]
  },
  {
   "cell_type": "code",
   "execution_count": 9,
   "metadata": {},
   "outputs": [
    {
     "name": "stdout",
     "output_type": "stream",
     "text": [
      "(0.0, -3.5355339059, -3.5355339059)\n",
      "(0.0, -2.8284271247, -2.8284271247)\n",
      "(0.0, -2.1213203436, -2.1213203436)\n",
      "(0.0, -1.4142135624, -1.4142135624)\n",
      "(0.0, -0.7071067812, -0.7071067812)\n",
      "(0.0, 0.0, 0.0)\n",
      "(0.0, 0.7071067812, 0.7071067812)\n",
      "(0.0, 1.4142135624, 1.4142135624)\n",
      "(0.0, 2.1213203436, 2.1213203436)\n",
      "(0.0, 2.8284271247, 2.8284271247)\n",
      "(0.0, 3.5355339059, 3.5355339059)\n"
     ]
    },
    {
     "data": {
      "text/plain": [
       "(0, 0, False)"
      ]
     },
     "execution_count": 9,
     "metadata": {},
     "output_type": "execute_result"
    }
   ],
   "source": [
    "for i in e_fields:\n",
    "    print(i)\n"
   ]
  },
  {
   "cell_type": "code",
   "execution_count": 10,
   "metadata": {},
   "outputs": [
    {
     "data": {
      "text/plain": [
       "True"
      ]
     },
     "execution_count": 10,
     "metadata": {},
     "output_type": "execute_result"
    }
   ],
   "source": [
    "(0, 0, 0) in e_fields"
   ]
  },
  {
   "cell_type": "code",
   "execution_count": 11,
   "metadata": {},
   "outputs": [
    {
     "data": {
      "text/plain": [
       "True"
      ]
     },
     "execution_count": 11,
     "metadata": {},
     "output_type": "execute_result"
    }
   ],
   "source": [
    "a = \"Example_how_we_want_X+7.07e-01_Y+7.07e-01.com\"\n",
    "\n",
    "\"_X+\" in a"
   ]
  },
  {
   "cell_type": "code",
   "execution_count": 12,
   "metadata": {},
   "outputs": [
    {
     "data": {
      "text/plain": [
       "'0.00000005'"
      ]
     },
     "execution_count": 12,
     "metadata": {},
     "output_type": "execute_result"
    }
   ],
   "source": [
    "a = \"0.00000005\"\n",
    "str(a)"
   ]
  },
  {
   "cell_type": "code",
   "execution_count": 15,
   "metadata": {},
   "outputs": [
    {
     "data": {
      "text/plain": [
       "'_Z+0.com'"
      ]
     },
     "execution_count": 15,
     "metadata": {},
     "output_type": "execute_result"
    }
   ],
   "source": [
    "a = \"M062X_101_Z-0.002500.com\"\n",
    "((\"_Z+0\" + \".com\") or \"_Z+0_\" in a)"
   ]
  },
  {
   "cell_type": "code",
   "execution_count": 20,
   "metadata": {},
   "outputs": [
    {
     "data": {
      "text/plain": [
       "False"
      ]
     },
     "execution_count": 20,
     "metadata": {},
     "output_type": "execute_result"
    }
   ],
   "source": [
    "((\"_Z+0\" + \".com\") or \"_Z+0_\") in a"
   ]
  },
  {
   "cell_type": "code",
   "execution_count": 17,
   "metadata": {},
   "outputs": [
    {
     "data": {
      "text/plain": [
       "False"
      ]
     },
     "execution_count": 17,
     "metadata": {},
     "output_type": "execute_result"
    }
   ],
   "source": [
    "\"_Z+0_\" in a"
   ]
  },
  {
   "cell_type": "code",
   "execution_count": null,
   "metadata": {},
   "outputs": [],
   "source": []
  }
 ],
 "metadata": {
  "kernelspec": {
   "display_name": "base",
   "language": "python",
   "name": "python3"
  },
  "language_info": {
   "codemirror_mode": {
    "name": "ipython",
    "version": 3
   },
   "file_extension": ".py",
   "mimetype": "text/x-python",
   "name": "python",
   "nbconvert_exporter": "python",
   "pygments_lexer": "ipython3",
   "version": "3.9.13"
  },
  "orig_nbformat": 4
 },
 "nbformat": 4,
 "nbformat_minor": 2
}
