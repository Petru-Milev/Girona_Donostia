{
 "cells": [
  {
   "cell_type": "code",
   "execution_count": 1,
   "metadata": {},
   "outputs": [],
   "source": [
    "import numpy as np\n",
    "from itertools import product\n",
    "import ast"
   ]
  },
  {
   "cell_type": "code",
   "execution_count": 250,
   "metadata": {},
   "outputs": [],
   "source": [
    "geometry = np.loadtxt(\"geometry_test.txt\", dtype = str)"
   ]
  },
  {
   "cell_type": "code",
   "execution_count": 251,
   "metadata": {},
   "outputs": [],
   "source": [
    "# Creating an input file for gaussian calculation\n",
    "# nproc - to specify the number of processos to be used in calculation, mem - to specify the memory to be used in calculation\n",
    "# file_name = name by which the file will be saved\n",
    "# geom - Geometry to be used in calculation\n",
    "# keywords - keywords to be specified to gaussian. A string or a list of word is accepted\n",
    "# title - title to be used in file\n",
    "# oldchk = False, an old checkpoint name needs to be indicated, oldchk_file = Name of the old checkpoint file\n",
    "# chk = False, put True if a chk with the same name as filename needs to be saved, chk_name = Name of the checkpoint file to be used instead\n",
    "# charge_multiplicity = (0, 1) by default, if specified, another charge and multiplicity will be used\n",
    "# basis set = False, if smth else, need to be indicated another basis set in form [\"Atom1, Atom2, ...\", \"Basis Set Used\"]. Both values are single strings\n",
    "# wfx = False, A wfx file name needs to be specified\n",
    "# Field = False, if smth else, the directions of field need to be specified\n",
    "#\n",
    "\n",
    "basis_set = {}\n",
    "\n",
    "\n",
    "def create_gaussian_file(file_name, keywords, nproc=False, mem=False, title=\"Job Name\", oldchk=False, oldchk_file=None, chk=False, chk_name=False,\n",
    "                         charge_multiplicity=(0, 1), geom=False, basis_set=False, wfx=False, Field=False):\n",
    "\n",
    "    file_gaussian = open(file_name, \"w\")  # Opening the file\n",
    "\n",
    "    if nproc:  # Adding the line of nprocessors if the number of processors is specified\n",
    "        file_gaussian.write(\"%nproc=\" + str(nproc) + \"\\n\")\n",
    "\n",
    "    if mem:  # Adding the line with memory\n",
    "        file_gaussian.write(\"%mem=\" + mem + \"\\n\")\n",
    "\n",
    "    if oldchk:  # Checking if and old checkpoint is to be used in the calculation\n",
    "        if oldchk_file == None:\n",
    "            raise TypeError(\n",
    "                \"Old checkpoint file is not specified. Working filename is: \" + file_name)\n",
    "        # Adding the line of an old chk to the gaussian input\n",
    "        file_gaussian.write(\"%oldchk=\" + oldchk_file + \"\\n\")\n",
    "\n",
    "    if chk:  # Checking if the checkpoint needs to be created\n",
    "        if chk_name:  # Case when name of chk is different from file name\n",
    "            file_gaussian.write(\"%chk=\" + chk_name + \"\\n\")\n",
    "        else:  # Chk point is the same as file name\n",
    "            file_gaussian.write(\n",
    "                \"%chk=\" + file_name[:-4].split(\"/\")[-1] + \".chk\\n\")\n",
    "\n",
    "    # Adding the keywords to the file\n",
    "\n",
    "    if type(keywords) == list:  # Checking if keywords are specified as a list\n",
    "        new_line = \" \".join(keywords)\n",
    "        file_gaussian.write(new_line + '\\n\\n')\n",
    "    elif type(keywords) == str:  # Checking if keywords are specified as a string\n",
    "        file_gaussian.write(keywords + \"\\n\\n\")\n",
    "    else:\n",
    "        # An error for the case of wrong keyword list\n",
    "        raise TypeError(\n",
    "            \"keywords need to be a list of keywords or a string. Working filename is: \" + file_name)\n",
    "\n",
    "    file_gaussian.write(title + \"\\n\\n\")  # Adding the title\n",
    "    # Adding charge and multiplicity. By default 0 1\n",
    "    file_gaussian.write(\" \".join(str(x) for x in charge_multiplicity) + \"\\n\")\n",
    "    if geom is not False:\n",
    "        for i in range(geom.shape[0]):  # Writting the geometry\n",
    "            file_gaussian.write(\" \".join(geom[i]) + \"\\n\")\n",
    "        file_gaussian.write(\"\\n\")  # Adding a blanc line at the end of file\n",
    "    else:\n",
    "        file_gaussian.write(\"\\n\")\n",
    "\n",
    "    if Field is not False:  # Adding lines corresponding to the Field\n",
    "        file_gaussian.write(\" \".join([str(x) for x in Field]) + \"\\n\\n\")\n",
    "\n",
    "    if basis_set:  # Adding the lines corresponding to the basis set\n",
    "        if type(basis_set[0]) == list:  # Checking if the atoms were saved as a list\n",
    "            file_gaussian.write(\" \".join(basis_set[0]) + \" 0\" + \"\\n\")\n",
    "        elif type(basis_set[0]) == str:\n",
    "            file_gaussian.write(basis_set[0] + \" 0\" + \"\\n\")\n",
    "        # Writting the basis set in the file\n",
    "        file_gaussian.write(basis_set[1] + \"\\n\" + \"****\" + \"\\n\\n\")\n",
    "    if wfx:  # write wfx file\n",
    "        file_gaussian.write(wfx + \"\\n\\n\")\n",
    "    file_gaussian.close()  # Closing the file\n"
   ]
  },
  {
   "cell_type": "code",
   "execution_count": 252,
   "metadata": {},
   "outputs": [],
   "source": [
    "#Creating a matrix with values of how each element in the electric field changes\n",
    "#ndim - dimension of matrix \n",
    "#type_space - \"linear\", \"log\" or \"step\". Linear - n values on the range of start to finish \n",
    "#log - logarithmicaly n spaced values on the range start to finish \n",
    "#step - values placed with a specified step from start to finish, finish is not included. \n",
    "#all the same = False, change to a [start, finish, step] for the case when for all the directions the change is the same \n",
    "#**kwargs submit the directions and how the field will be changing in the form of {\"Direction\" : [start, finish, step], \"Direction2\": [start, finish, step]}\n",
    "\n",
    "def generate_input_energy_field_calculation(ndim, type_space, all_the_same = False, **kwargs):\n",
    "    ndim_l = [3 for i in range(ndim)]                                                        #Getting the dimensions of the matrix\n",
    "    matrix = np.zeros(ndim_l, dtype=object)                                                  #Creating a matrix. Having dtype = object is crucial here\n",
    "    character_mapping = {\"X\" : \"0\", \"x\" : \"0\", \"Y\": \"1\", \"y\": \"1\", \"Z\" : \"2\", \"z\": \"2\"}      #Creating a map of letters into numbers(indexes)\n",
    "    new_dict = {}                                                                            #To store the new data\n",
    "\n",
    "    for old_key, value in kwargs.items():                                                    #Changing the letters into number\n",
    "        for char, replacement in character_mapping.items():                                  #iterating over the map created earlier \n",
    "            old_key = old_key.replace(char, replacement)                                     #replacing character\n",
    "        new_dict[old_key] = value\n",
    "    \n",
    "    if all_the_same is not False:                                                            #The case when we want all directions of electric field to have the same values\n",
    "        if type_space == \"linear\":\n",
    "            new_array = np.linspace(all_the_same[0], all_the_same[1], all_the_same[2])\n",
    "        if type_space == \"log\":\n",
    "            new_array = np.logspace(np.log10(all_the_same[0]), np.log10(all_the_same[1]), all_the_same[2])\n",
    "        if type_space == \"step\":\n",
    "            new_array = np.arange(all_the_same[0], all_the_same[1], all_the_same[2])\n",
    "        for index, element in np.ndenumerate(matrix):     \n",
    "            print(index, element)\n",
    "            matrix[index] = new_array\n",
    "        return matrix\n",
    "\n",
    "    for key, value in new_dict.items():                                                      #Changing only the elements of the matrix that were specified in the kwargs\n",
    "        new_key = [int(x) for x in key]                                                      #Making a list of integers from the str\n",
    "        if type_space == \"linear\":\n",
    "            new_array = np.linspace(value[0], value[1], value[2])\n",
    "        if type_space == \"log\":\n",
    "            new_array = np.logspace(np.log10(value[0]), np.log10(value[1]), value[2])\n",
    "        if type_space == \"step\":\n",
    "            new_array = np.arange(value[0], value[1] + 10**(-10), value[2])\n",
    "        matrix[tuple(new_key)] = new_array                                           #Assigning the new values \n",
    "    return matrix\n",
    "        "
   ]
  },
  {
   "cell_type": "code",
   "execution_count": 253,
   "metadata": {},
   "outputs": [],
   "source": [
    "from itertools import product\n",
    "\n",
    "def generate_gaussian_field_calculation(matrix, file_name, keywords, nproc=False, mem=False, title=\"Job Name\", oldchk=False, oldchk_file=None, chk=False, chk_name=False,\n",
    "                         charge_multiplicity=(0, 1), geom=False, basis_set=False, wfx=False, Field=False):\n",
    "    \n",
    "    def map_number_to_direction(j):\n",
    "        character_mapping = {\"0\" : \"X\", \"1\": \"Y\", \"2\" : \"Z\"}\n",
    "        j = str(j)\n",
    "        new_str = \"\"\n",
    "        for char in j:\n",
    "            if char in character_mapping:\n",
    "                new_str += character_mapping[char]\n",
    "            else: new_str += char\n",
    "        return new_str\n",
    "\n",
    "        \n",
    "\n",
    "    matrix = np.reshape(matrix, -1)\n",
    "\n",
    "    for i in range(len(matrix)):\n",
    "        if not isinstance(matrix[i], np.ndarray):\n",
    "            matrix[i] = [matrix[i]]\n",
    "\n",
    "    for i, Field in enumerate(product(*matrix)):\n",
    "        A = []\n",
    "        for j in range(len(Field)):\n",
    "            A.append([map_number_to_direction(j), Field[j]])\n",
    "        add_name_field = [\"_\".join([str(x1) for x1 in x]) for x in A]\n",
    "        add_name_field = \"_\".join(add_name_field) \n",
    "        create_gaussian_file(file_name = file_name[:-4] + \"_\" + str(i) + \"_\" + add_name_field + \".inp\", keywords = keywords, nproc=nproc, mem=mem, title=title, oldchk=oldchk, oldchk_file=oldchk_file, chk=chk, chk_name=chk_name,\n",
    "                         charge_multiplicity=charge_multiplicity, geom=geom, basis_set=basis_set, wfx=wfx, Field=Field)\n",
    "    return \n"
   ]
  },
  {
   "cell_type": "code",
   "execution_count": 254,
   "metadata": {},
   "outputs": [],
   "source": [
    "A = generate_input_energy_field_calculation(1, \"linear\", **{\"X\" : [10, 100, 5], \"Y\" : [10, 100, 5], \"Z\" : [1, 5, 5] })\n",
    "name = \"test_new_test.inp\"\n",
    "kw = \"STO-3G\"\n",
    "generate_gaussian_field_calculation(A, file_name= name, keywords= kw, geom = geometry)"
   ]
  },
  {
   "cell_type": "code",
   "execution_count": 255,
   "metadata": {},
   "outputs": [],
   "source": [
    "class Gaussian_File:\n",
    "    def __init__(self, file_name = \"name.inp\", keywords = \"\", nproc=False, mem=False, title=\"Job Name\", oldchk=False, oldchk_file=None, chk=False, chk_name=False,\n",
    "                         charge_multiplicity=(0, 1), geom=False, basis_set=False, wfx=False, Field=False):\n",
    "        self.file_name = file_name\n",
    "        self.keywords = keywords\n",
    "        self.nproc = nproc\n",
    "        self.mem = mem \n",
    "        self.title = title \n",
    "        self.oldchk = oldchk\n",
    "        self.oldchk_file = oldchk_file\n",
    "        self.chk = chk\n",
    "        self.chk_name = chk_name\n",
    "        self.charge_multiplicity = charge_multiplicity\n",
    "        self.geom = False \n",
    "        self.basis_set_gaussian = basis_set\n",
    "        self.wfx = wfx\n",
    "        self.Field = Field\n"
   ]
  },
  {
   "cell_type": "code",
   "execution_count": null,
   "metadata": {},
   "outputs": [],
   "source": [
    "import ast\n",
    "def start():\n",
    "\n",
    "    File_Info = Gaussian_File()\n",
    "\n",
    "    File_Info.file_name = input(\"1. Introduce the name of the file of your calculation. \\n Including the path. If not, the files will be saved in the directory were this file is.\\nExample /Users/User/Documents\")\n",
    "    #----------------------------------------------------------------------------------------------------------------------------------\n",
    "    a = [] \n",
    "    i = 1 \n",
    "    while True:\n",
    "        keyword = input(\"2. Introduce the keywords. Each line is a new line for the keyword. Introduce 0 to finish the introduction of kw\")\n",
    "        if keyword == \"0\":\n",
    "            break\n",
    "        a.append(keyword)\n",
    "        print(\"\\n\".join(a))\n",
    "        print(\"Cycle number\", i)\n",
    "        print(\"-----------------\")\n",
    "        i += 1\n",
    "    File_Info.keywords = \"\\n\".join(a)\n",
    "    #-------------------------------------------------------------------------------------------------------------------------------\n",
    "    try:\n",
    "        nproc = int(input(\"3. Introduce the number of processors to be used during the calculation. \\n Introduce 0 if you do not want to specify the number of processors.\"))\n",
    "        if nproc != 0:\n",
    "            File_Info.nproc = nproc\n",
    "        else: File_Info.nproc = False\n",
    "    except ValueError:\n",
    "        print(\"Invalid input. Please enter and integer. 0 if you do not wish to specify the number of processors. Introduce False\")\n",
    "    mem = input(\"4. Introduce the amount of memory to be used during the calculation. Also indicate the amount. Example: 100MB. \\n if you do not want to specify the memory, leave the space blank. (i.e., press Enter)\")\n",
    "    if not bool(mem):\n",
    "        mem = False\n",
    "    File_Info.mem = mem\n",
    "    \n",
    "    #----------------------------------------------------------------------------------------------------------------------------------\n",
    "    a = [] \n",
    "    i = 1 \n",
    "    while True:\n",
    "        line = input(\"5. Introduce title\\Comment for the Job to be used. Each line is a new line for the title. Introduce 0 to finish the introduction.\")\n",
    "        if line == \"0\":\n",
    "            break\n",
    "        a.append(line)\n",
    "        print(\"\\n\".join(a))\n",
    "        print(\"Cycle number\", i)\n",
    "        print(\"-----------------\")\n",
    "        i += 1\n",
    "    File_Info.title = \"\\n\".join(a)\n",
    "    #-------------------------------------------------------------------------------------------------------------------------------\n",
    "\n",
    "    oldchk = input(\"6. Do you want to use an old chk file? Yes/No\")\n",
    "    if oldchk[0].lower() == \"y\":\n",
    "        oldchk = True\n",
    "        File_Info.oldchk = oldchk\n",
    "        File_Info.oldchk_file = input(\"Introduce the name for the old chk file, including the extension\")\n",
    "    else: oldchk = False\n",
    "\n",
    "    \n",
    "    chk = input(\"7. Do you want to save an chk file for this calculation? Yes/No\")\n",
    "    if chk[0].lower() == \"y\":\n",
    "        File_Info.chk = True\n",
    "        chk_name = input(\"Introduce the chk file name. Leaving it blanc will result in using the same name as for the log file\")\n",
    "        if not bool(chk_name):\n",
    "            chk_name = False\n",
    "        else: File_Info.chk_name = chk_name\n",
    "    \n",
    "    File_Info.charge_multiplicity = tuple(input(\"8. Intorduce charge and multiplicity of the system. \\nTwo integers separated by space are to be introduced. Example: 0 1\"))\n",
    "    \n",
    "    basis_set_atoms = input(\"9. Introduce atoms for which u will use basis set.\\nAtoms are separated by spaces. Example: Li C N O \\n Leave blank if you do not want to specify basis set for atoms\")\n",
    "    if bool(basis_set_atoms):\n",
    "        basis_set_name = input(\"Introduce the name for the basis set to be used\")\n",
    "        File_Info.basis_set_gaussian = [basis_set_atoms, basis_set_name]\n",
    "    else: File_Info.basis_set_gaussian = False\n",
    "\n",
    "    wfx = input(\"10. Do you want to save an wfx file? Leave blank if you do not wish to print wfx\")\n",
    "    if not bool(wfx):\n",
    "        wfx = False\n",
    "    File_Info.wfx = wfx\n",
    "\n",
    "    Energy = input(\"11. Do you want/have to specify a electric field for this calculation? \\n Y/N\")\n",
    "    type_energy = int(input(\"How do you want your energy to vary? \\n Possible choices: 1. Linearly, 2. Step, 3. Logarithmicaly. Introduce the corresponding integer.\"))\n",
    "    if type_energy == 1:\n",
    "        type_energy = \"linear\"\n",
    "    elif type_energy == 2:\n",
    "        type_energy = \"step\"\n",
    "    elif type_energy == 3:\n",
    "        type_energy == \"log\"\n",
    "    else: type_energy = \"linear\"\n",
    "    \n",
    "    if Energy.lower() == \"y\":\n",
    "        ndim = int(input(\"Introduce number of dimension for the energy calculation. n = 1 corresponds to only X, Y, and Z. n = 2 corresponds to XX, YY, etc.\"))\n",
    "    \n",
    "        dict_direct = ast.literal_eval(\"{\" + input(\"Introduce the directions for which you would like to perform the calculations.\\nFormat for this is \\\n",
    "                        \\n'XX':[start, finish, step/number of points], 'XZ' : [start, finish, number of points], etc \\n \\\n",
    "                        Respecting the format above is crucial. The direction should correspond with number of dimensions. 'X' for dimension 1, 'XX' for dimension 2, etc. \\\n",
    "                        \\n \") + \"}\")\n",
    "        field_matrix = generate_input_energy_field_calculation(ndim, type_energy, **dict_direct)\n",
    "        generate_gaussian_field_calculation(field_matrix, File_Info.file_name, File_Info.keywords, nproc = File_Info.nproc, mem = File_Info.mem, title = File_Info.title, oldchk= File_Info.oldchk, oldchk_file=File_Info.oldchk_file, chk = File_Info.chk, chk_name=File_Info.chk_name, charge_multiplicity=File_Info.charge_multiplicity, geom = geometry, basis_set = File_Info.basis_set_gaussian, wfx = File_Info.wfx)\n",
    "    else: create_gaussian_file(File_Info.file_name, File_Info.keywords, nproc = File_Info.nproc, mem = File_Info.mem, title = File_Info.title, oldchk= File_Info.oldchk, oldchk_file=File_Info.oldchk_file, chk = File_Info.chk, chk_name=File_Info.chk_name, charge_multiplicity=File_Info.charge_multiplicity, geom = geometry, basis_set = File_Info.basis_set_gaussian, wfx = File_Info.wfx)"
   ]
  },
  {
   "cell_type": "code",
   "execution_count": null,
   "metadata": {},
   "outputs": [],
   "source": [
    "a = \"%oldchk=wverv.fchk\" \n",
    "if \"Heh\" in a:\n",
    "    print(\"Yay\")"
   ]
  },
  {
   "cell_type": "code",
   "execution_count": null,
   "metadata": {},
   "outputs": [
    {
     "data": {
      "text/plain": [
       "'.inp'"
      ]
     },
     "execution_count": 243,
     "metadata": {},
     "output_type": "execute_result"
    }
   ],
   "source": [
    "a = \"wdvwv.inp\"\n",
    "a[-4:]"
   ]
  },
  {
   "cell_type": "code",
   "execution_count": null,
   "metadata": {},
   "outputs": [
    {
     "name": "stdout",
     "output_type": "stream",
     "text": [
      "2\n",
      "3\n",
      "4\n",
      "5\n"
     ]
    }
   ],
   "source": [
    "a = [1, 2, 3, 4, 5]\n",
    "\n",
    "for i in a[1:]:\n",
    "    print(i)"
   ]
  },
  {
   "cell_type": "code",
   "execution_count": null,
   "metadata": {},
   "outputs": [
    {
     "name": "stdout",
     "output_type": "stream",
     "text": [
      "[[1 2 3]\n",
      " [4 5 6]\n",
      " [7 8 9]]\n"
     ]
    }
   ],
   "source": [
    "a = np.array(([1, 2, 3], [4, 5, 6], [7, 8 ,9]))\n",
    "print(a)"
   ]
  },
  {
   "cell_type": "code",
   "execution_count": 283,
   "metadata": {},
   "outputs": [
    {
     "name": "stdout",
     "output_type": "stream",
     "text": [
      "1 (0, 0)\n",
      "[1, 2, 3] (0, 1)\n",
      "3 (0, 2)\n",
      "4 (1, 0)\n",
      "5 (1, 1)\n",
      "6 (1, 2)\n",
      "7 (2, 0)\n",
      "8 (2, 1)\n",
      "9 (2, 2)\n"
     ]
    },
    {
     "name": "stderr",
     "output_type": "stream",
     "text": [
      "/var/folders/ym/26b79b9x6wg59yqrctz2c40h0000gn/T/ipykernel_17375/498175774.py:3: VisibleDeprecationWarning: Creating an ndarray from ragged nested sequences (which is a list-or-tuple of lists-or-tuples-or ndarrays with different lengths or shapes) is deprecated. If you meant to do this, you must specify 'dtype=object' when creating the ndarray.\n",
      "  matrix = np.array([[1, [1, 2, 3], 3],\n"
     ]
    }
   ],
   "source": [
    "import numpy as np\n",
    "\n",
    "matrix = np.array([[1, [1, 2, 3], 3],\n",
    "                   [4, 5, 6],\n",
    "                   [7, 8, 9]])\n",
    "\n",
    "mapping = {}\n",
    "\n",
    "it = np.nditer(matrix, flags=[\"multi_index\", \"refs_ok\"])\n",
    "while not it.finished:\n",
    "    index = it.multi_index  # Get the current multi-index\n",
    "    number = it[0]  # Get the number at the current position\n",
    "    mapping[str(number)] = index\n",
    "    it.iternext()\n",
    "\n",
    "# Print the mapping\n",
    "for key, value in mapping.items():\n",
    "    print(key, value)\n"
   ]
  },
  {
   "cell_type": "code",
   "execution_count": 291,
   "metadata": {},
   "outputs": [
    {
     "name": "stdout",
     "output_type": "stream",
     "text": [
      "1\n",
      "huh\n",
      "[1, 2, 3]\n",
      "huh\n",
      "3\n",
      "huh\n",
      "4\n",
      "huh\n",
      "5\n",
      "huh\n",
      "6\n",
      "huh\n",
      "7\n",
      "huh\n",
      "8\n",
      "huh\n",
      "9\n",
      "huh\n"
     ]
    }
   ],
   "source": [
    "it = np.nditer(matrix, flags=['multi_index', \"refs_ok\"])\n",
    "for i in it:\n",
    "    print(it[0])\n",
    "    if isinstance(it[0], np.ndarray):\n",
    "        #print(it[1])\n",
    "        print(\"huh\")"
   ]
  },
  {
   "cell_type": "code",
   "execution_count": 265,
   "metadata": {},
   "outputs": [
    {
     "ename": "ValueError",
     "evalue": "Iterator is past the end",
     "output_type": "error",
     "traceback": [
      "\u001b[0;31m---------------------------------------------------------------------------\u001b[0m",
      "\u001b[0;31mValueError\u001b[0m                                Traceback (most recent call last)",
      "\u001b[0;32m/var/folders/ym/26b79b9x6wg59yqrctz2c40h0000gn/T/ipykernel_17375/2189542600.py\u001b[0m in \u001b[0;36m<module>\u001b[0;34m\u001b[0m\n\u001b[0;32m----> 1\u001b[0;31m \u001b[0mit\u001b[0m\u001b[0;34m.\u001b[0m\u001b[0mmulti_index\u001b[0m\u001b[0;34m\u001b[0m\u001b[0;34m\u001b[0m\u001b[0m\n\u001b[0m",
      "\u001b[0;31mValueError\u001b[0m: Iterator is past the end"
     ]
    }
   ],
   "source": [
    "it.multi_index"
   ]
  },
  {
   "cell_type": "code",
   "execution_count": 292,
   "metadata": {},
   "outputs": [
    {
     "name": "stdout",
     "output_type": "stream",
     "text": [
      "{'1': (0, 0), '[1, 2, 3]': (0, 1), '3': (0, 2), '4': (1, 0), '5': (1, 1), '6': (1, 2), '7': (2, 0), '8': (2, 1), '9': (2, 2)}\n"
     ]
    },
    {
     "data": {
      "text/plain": [
       "{'1': (0, 0),\n",
       " '[1, 2, 3]': (0, 1),\n",
       " '3': (0, 2),\n",
       " '4': (1, 0),\n",
       " '5': (1, 1),\n",
       " '6': (1, 2),\n",
       " '7': (2, 0),\n",
       " '8': (2, 1),\n",
       " '9': (2, 2)}"
      ]
     },
     "execution_count": 292,
     "metadata": {},
     "output_type": "execute_result"
    }
   ],
   "source": [
    "def create_mapping_from_n_dim_to_one_dim(matrix_for_mapping):\n",
    "        mapping = {}\n",
    "\n",
    "        it = np.nditer(matrix_for_mapping, flags=[\"multi_index\", \"refs_ok\"])\n",
    "        while not it.finished:\n",
    "            index = it.multi_index  # Get the current multi-index\n",
    "            number = it[0]  # Get the number at the current position\n",
    "            mapping[str(number)] = index\n",
    "            it.iternext()\n",
    "        print(mapping)\n",
    "        return mapping\n",
    "\n",
    "create_mapping_from_n_dim_to_one_dim(matrix)"
   ]
  },
  {
   "cell_type": "code",
   "execution_count": 4,
   "metadata": {},
   "outputs": [
    {
     "data": {
      "text/plain": [
       "array([  10.,  100., 1000.])"
      ]
     },
     "execution_count": 4,
     "metadata": {},
     "output_type": "execute_result"
    }
   ],
   "source": [
    "np.logspace(1, 3, 3)"
   ]
  },
  {
   "cell_type": "code",
   "execution_count": 1,
   "metadata": {},
   "outputs": [
    {
     "data": {
      "text/plain": [
       "[2, 3, 4]"
      ]
     },
     "execution_count": 1,
     "metadata": {},
     "output_type": "execute_result"
    }
   ],
   "source": [
    "a = [1, 2, 3, 4, 5, 6, 7, 8]\n",
    "a[1:4]"
   ]
  },
  {
   "cell_type": "code",
   "execution_count": 38,
   "metadata": {},
   "outputs": [],
   "source": [
    "def vary_e_field_in_certain_direction(c1, c2, c3, var_range, type_coordinates = \"cartesian\", type_space = \"linear\"):\n",
    "    \"\"\"\n",
    "    Function to vary the electric field in a certain direction.\n",
    "    c1, c2, c3 - coordinates of the point in the space, where the electric field is to be varied. \n",
    "    format of the coordinates is (x, y, z) for catesian, (r, theta, phi) for spherical, (r, phi, h) for cylindrical\n",
    "    Physics convetion is used. \n",
    "    The use of (r, theta, phi) denotes radial distance, inclination (or elevation), and azimuth, respectively.\n",
    "    var_range - range of the variation.\n",
    "    type_coordinates - \"cartesian\", \"spherical\", \"cylindrical\". Default is cartesian.\n",
    "    type_space - \"linear\", \"log\", \"step\". Default is linear.\n",
    "    \"\"\"\n",
    "    def convert_spherical_to_cartesian_coordinates(r, theta, phi):\n",
    "        \"\"\"\n",
    "        Convert spherical coordinates to cartesian coordinates.\n",
    "        The use of (r, theta, phi) denotes radial distance, inclination (or elevation), and azimuth, respectively.\n",
    "        θ the angle measured away from the +Z axis \n",
    "        As φ has a range of 360° \n",
    "        θ has a range of 180°, running from 0° to 180°\n",
    "        \"\"\"\n",
    "        x = r * np.sin(theta) * np.cos(phi)\n",
    "        y = r * np.sin(theta) * np.sin(phi)\n",
    "        z = r * np.cos(theta)\n",
    "        return x, y, z\n",
    "    \n",
    "    \n",
    "    def convert_cartesian_to_spherical_coordinates(x, y, z):\n",
    "        \"\"\"\n",
    "        Convert cartesian coordinates to spherical coordinates.\n",
    "        The use of (x, y, z) denotes the cartesian coordinates.\n",
    "        \"\"\"\n",
    "        r = np.sqrt(x**2 + y**2 + z**2)\n",
    "        theta = np.arccos(z / r)\n",
    "        if int(x) == 0:\n",
    "            phi = np.arctan(np.inf)\n",
    "        else: phi = np.arctan(y / x)\n",
    "        return r, theta, phi\n",
    "    \n",
    "    def convert_cylindrical_to_spherical_coordinates(r, phi, h):\n",
    "        \"\"\"\n",
    "        Convert cylindrical coordinates to spherical coordinates.\n",
    "        The use of (r, phi, z) denotes radial distance, azimuth angle, and height, respectively.\n",
    "        \"\"\"\n",
    "        ro = np.sqrt(r**2 + h**2)   \n",
    "        if int(h) == 0:\n",
    "            theta = np.arctan(np.inf)\n",
    "        else: theta = np.arctan(r / h)   \n",
    "        return ro, theta, phi\n",
    "\n",
    "    def return_x_y_z(x, y, z):                                               #Function to return the same coordinates\n",
    "        return x, y, z\n",
    "\n",
    "    if type_space == \"linear\":                                               #Creating the space for the variation\n",
    "        space = np.linspace(var_range[0], var_range[1], var_range[2])\n",
    "    elif type_space == \"step\":\n",
    "        space = np.arange(var_range[0], var_range[1] + var_range[2], var_range[2])\n",
    "    elif type_space == \"log\":\n",
    "        space = np.logspace(np.log10(var_range[0]), np.log10(var_range[1]), var_range[2])\n",
    "    else: space = np.linspace(var_range[0], var_range[1], var_range[2])\n",
    "\n",
    "    #Mapping the function to the corresponding conversion of coordinates\n",
    "    map_function = {\"cartesian\" : convert_cartesian_to_spherical_coordinates, \"spherical\" : return_x_y_z, \"cylindrical\" : convert_cylindrical_to_spherical_coordinates}\n",
    "    f = map_function[type_coordinates]\n",
    "    return_vector = []\n",
    "    r, theta, phi = f(c1, c2, c3)                         #Converting the coordinates to spherical\n",
    "    for i in space:                                       #Obtaining the new values for electric field\n",
    "        r = i                                             #Length of vector is changed\n",
    "        x, y, z = convert_spherical_to_cartesian_coordinates(r, theta, phi)        #Obtaining the new cartesian coordinates to be used in the Gaussian input file.\n",
    "        x, y, z = np.round((x, y, z), 10)                                          #Rounding the values to 10 decimal places\n",
    "        return_vector.append((x, y, z))                                            #Appending the new values to the list\n",
    "    return return_vector\n",
    "\n",
    "    \n"
   ]
  },
  {
   "cell_type": "code",
   "execution_count": 39,
   "metadata": {},
   "outputs": [
    {
     "name": "stdout",
     "output_type": "stream",
     "text": [
      "square of the x, y, z is: 4.0000000000071205\n",
      "x, y, z values are -0.0, -3.8805700006, -0.9701425001\n",
      "--------------------------------------------------\n",
      "square of the x, y, z is: 2.9999999999628963\n",
      "x, y, z values are -0.0, -2.9104275004, -0.7276068751\n",
      "--------------------------------------------------\n",
      "square of the x, y, z is: 2.000000000015687\n",
      "x, y, z values are -0.0, -1.9402850003, -0.4850712501\n",
      "--------------------------------------------------\n",
      "square of the x, y, z is: 0.9999999999472096\n",
      "x, y, z values are -0.0, -0.9701425001, -0.242535625\n",
      "--------------------------------------------------\n",
      "square of the x, y, z is: 0.0\n",
      "x, y, z values are 0.0, 0.0, 0.0\n",
      "--------------------------------------------------\n",
      "square of the x, y, z is: 0.9999999999472096\n",
      "x, y, z values are 0.0, 0.9701425001, 0.242535625\n",
      "--------------------------------------------------\n",
      "square of the x, y, z is: 2.000000000015687\n",
      "x, y, z values are 0.0, 1.9402850003, 0.4850712501\n",
      "--------------------------------------------------\n",
      "square of the x, y, z is: 2.9999999999628963\n",
      "x, y, z values are 0.0, 2.9104275004, 0.7276068751\n",
      "--------------------------------------------------\n",
      "square of the x, y, z is: 4.0000000000071205\n",
      "x, y, z values are 0.0, 3.8805700006, 0.9701425001\n",
      "--------------------------------------------------\n"
     ]
    }
   ],
   "source": [
    "vary_e_field_in_certain_direction(0, 4, 1, var_range=[-4, 4, 1], type_coordinates=\"cartesian\", type_space=\"step\")"
   ]
  },
  {
   "cell_type": "code",
   "execution_count": 33,
   "metadata": {},
   "outputs": [
    {
     "data": {
      "text/plain": [
       "1.0"
      ]
     },
     "execution_count": 33,
     "metadata": {},
     "output_type": "execute_result"
    }
   ],
   "source": [
    "np.sin(np.pi/2)"
   ]
  },
  {
   "cell_type": "code",
   "execution_count": 13,
   "metadata": {},
   "outputs": [
    {
     "data": {
      "text/plain": [
       "1.5707963267948966"
      ]
     },
     "execution_count": 13,
     "metadata": {},
     "output_type": "execute_result"
    }
   ],
   "source": [
    "np.arctan(np.inf)"
   ]
  },
  {
   "cell_type": "code",
   "execution_count": null,
   "metadata": {},
   "outputs": [],
   "source": []
  }
 ],
 "metadata": {
  "kernelspec": {
   "display_name": "base",
   "language": "python",
   "name": "python3"
  },
  "language_info": {
   "codemirror_mode": {
    "name": "ipython",
    "version": 3
   },
   "file_extension": ".py",
   "mimetype": "text/x-python",
   "name": "python",
   "nbconvert_exporter": "python",
   "pygments_lexer": "ipython3",
   "version": "3.9.13"
  },
  "orig_nbformat": 4
 },
 "nbformat": 4,
 "nbformat_minor": 2
}
